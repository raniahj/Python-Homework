{
 "cells": [
  {
   "cell_type": "code",
   "execution_count": 25,
   "metadata": {},
   "outputs": [],
   "source": [
    "#variables\n",
    "line_num= 0\n",
    "months= []\n",
    "profit_loss_change= []\n",
    "balance= []\n",
    "total_months = 0\n",
    "current_total = 0\n",
    "previous_month = 0\n",
    "current_month = 0\n",
    "revenue_change_list= []\n",
    "sum_changes = 0\n",
    "average_change= []\n",
    "net_total = 0\n",
    "greatest_increase= 0\n",
    "greatest_decrease= 0\n",
    "greatest_date = 0\n",
    "worst_date= 0\n",
    "month_of_change = []"
   ]
  },
  {
   "cell_type": "code",
   "execution_count": 1,
   "metadata": {},
   "outputs": [],
   "source": [
    "from pathlib import Path\n",
    "import csv\n",
    "import os\n",
    "csvpath = Path (\"../Pybank/budget_data.csv\")"
   ]
  },
  {
   "cell_type": "code",
   "execution_count": 2,
   "metadata": {},
   "outputs": [
    {
     "ename": "StopIteration",
     "evalue": "",
     "output_type": "error",
     "traceback": [
      "\u001b[1;31m---------------------------------------------------------------------------\u001b[0m",
      "\u001b[1;31mStopIteration\u001b[0m                             Traceback (most recent call last)",
      "\u001b[1;32m<ipython-input-2-391e60917227>\u001b[0m in \u001b[0;36m<module>\u001b[1;34m\u001b[0m\n\u001b[0;32m      4\u001b[0m     \u001b[1;31m#print(type(csvreader))\u001b[0m\u001b[1;33m\u001b[0m\u001b[1;33m\u001b[0m\u001b[1;33m\u001b[0m\u001b[0m\n\u001b[0;32m      5\u001b[0m \u001b[1;33m\u001b[0m\u001b[0m\n\u001b[1;32m----> 6\u001b[1;33m     \u001b[0mcsvheader\u001b[0m \u001b[1;33m=\u001b[0m \u001b[0mnext\u001b[0m\u001b[1;33m(\u001b[0m\u001b[0mcsvreader\u001b[0m\u001b[1;33m)\u001b[0m\u001b[1;33m\u001b[0m\u001b[1;33m\u001b[0m\u001b[0m\n\u001b[0m\u001b[0;32m      7\u001b[0m     \u001b[0mline_num\u001b[0m \u001b[1;33m+=\u001b[0m \u001b[1;36m1\u001b[0m\u001b[1;33m\u001b[0m\u001b[1;33m\u001b[0m\u001b[0m\n\u001b[0;32m      8\u001b[0m \u001b[1;33m\u001b[0m\u001b[0m\n",
      "\u001b[1;31mStopIteration\u001b[0m: "
     ]
    }
   ],
   "source": [
    "with open(csvpath , newline= \"\") as csvfile:\n",
    "    \n",
    "    csvreader = csv.reader(csvfile, delimiter=',')\n",
    "    #print(type(csvreader))\n",
    "    \n",
    "    csvheader = next(csvreader)\n",
    "    line_num += 1\n",
    "    \n",
    "    for row in csvreader:\n",
    "        total_months += 1\n",
    "        current_month = int(row[1])\n",
    "        net_total += current_month\n",
    "        #print(net_total)\n",
    "        \n",
    "if total_months == 1:\n",
    "    previous_month = current_month\n",
    "else:\n",
    "    profit_loss_change = current_month - previous_month\n",
    "    revenue_change_list.append(profit_loss_change)\n",
    "    months.append(row[0])\n",
    "        #print(len(months))\n",
    "        \n",
    "    sum_changes = sum(revenue_change_list)\n",
    "    average_change= round((sum_changes / (total_months -1)), 2)\n",
    "    greatest_increase= max(revenue_change_list)\n",
    "    greatest_increase_index= revenue_change_list.index(greatest_increase)\n",
    "    greatest_date = months[greatest_increase_index]\n",
    "    greatest_decrease = min(revenue_change_list)\n",
    "    greatest_decrease_index= revenue_change_list.index(greatest_decrease)\n",
    "    worst_date= months[greatest_decrease_index]\n",
    "\n",
    "    "
   ]
  },
  {
   "cell_type": "code",
   "execution_count": null,
   "metadata": {},
   "outputs": [],
   "source": [
    "#Displaying Information\n",
    "print(\"Financial Analysis\" )\n",
    "print(\"________________________\")\n",
    "print(f\"Total Months: {str(total_months)}\")\n",
    "print(f\"Total: ${str(net_total)}\")\n",
    "print(f\"Average Change: ${str(round(average_change,2))}\")\n",
    "print(f\"Greatest Increase in Profits: {greatest_date} (${str(greatest_increase)})\")\n",
    "print(f\"Greatest Decrease in Profits:{worst_date} (${str(greatest_decrease)})\")\n",
    "\n",
    "with open (\"./file.txt\",\"w\") as outfile:\n",
    "    outfile.write(\"Financial Analysis\\n\")     \n",
    "    outfile.write(\"----------------------------\\n\")     \n",
    "    outfile.write(f\"Total Months:  {total_months}\\n\")     \n",
    "    outfile.write(f\"Total:  ${net_total}\\n\")     \n",
    "    outfile.write(f\"Average Change:  ${average_change, 2}\\n\")     \n",
    "    outfile.write(f\"Greatest Increase in Profits:  {greatest_date} (${greatest_increase})\\n\")     \n",
    "    outfile.write(f\"Greatest Decrease in Losses:  {worst_date} (${greatest_decrease})\\n\")\n"
   ]
  }
 ],
 "metadata": {
  "kernelspec": {
   "display_name": "Python 3",
   "language": "python",
   "name": "python3"
  },
  "language_info": {
   "codemirror_mode": {
    "name": "ipython",
    "version": 3
   },
   "file_extension": ".py",
   "mimetype": "text/x-python",
   "name": "python",
   "nbconvert_exporter": "python",
   "pygments_lexer": "ipython3",
   "version": "3.8.3"
  }
 },
 "nbformat": 4,
 "nbformat_minor": 4
}
